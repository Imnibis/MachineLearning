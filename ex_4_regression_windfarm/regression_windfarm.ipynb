{
 "cells": [
  {
   "cell_type": "code",
   "execution_count": 34,
   "metadata": {},
   "outputs": [],
   "source": [
    "import numpy as np\n",
    "from sklearn.model_selection import train_test_split\n",
    "from sklearn.metrics import r2_score\n",
    "from sklearn.linear_model import Ridge\n",
    "from sklearn.ensemble import AdaBoostRegressor"
   ]
  },
  {
   "cell_type": "code",
   "execution_count": 35,
   "metadata": {},
   "outputs": [],
   "source": [
    "# Load the dataset\n",
    "X_train = np.load('X_train.npy')\n",
    "X_test = np.load('X_test.npy')\n",
    "y_train = np.load('y_train.npy')\n",
    "y_test = np.load('y_test.npy')"
   ]
  },
  {
   "cell_type": "code",
   "execution_count": 36,
   "metadata": {},
   "outputs": [],
   "source": [
    "# Initialize the Ridge regressor and AdaBoost regressor with Ridge as the base estimator\n",
    "ridge = Ridge(alpha=1.0)\n",
    "ada_boost = AdaBoostRegressor(estimator=ridge, n_estimators=100, random_state=42)"
   ]
  },
  {
   "cell_type": "code",
   "execution_count": 37,
   "metadata": {},
   "outputs": [
    {
     "name": "stderr",
     "output_type": "stream",
     "text": [
      "/opt/homebrew/lib/python3.11/site-packages/sklearn/utils/validation.py:1300: DataConversionWarning: A column-vector y was passed when a 1d array was expected. Please change the shape of y to (n_samples, ), for example using ravel().\n",
      "  y = column_or_1d(y, warn=True)\n"
     ]
    }
   ],
   "source": [
    "# Fit the models on the training data\n",
    "ridge.fit(X_train, y_train)\n",
    "ada_boost.fit(X_train, y_train)"
   ]
  },
  {
   "cell_type": "code",
   "execution_count": null,
   "metadata": {},
   "outputs": [],
   "source": [
    "# Make predictions on the test set\n",
    "y_pred_ridge = ridge.predict(X_test)\n",
    "y_pred_ada_boost = ada_boost.predict(X_test)"
   ]
  },
  {
   "cell_type": "code",
   "execution_count": null,
   "metadata": {},
   "outputs": [
    {
     "name": "stdout",
     "output_type": "stream",
     "text": [
      "R2 score for Ridge regressor: 0.5973316062998492\n",
      "R2 score for AdaBoost regressor with Ridge: 0.5258723100068889\n",
      "The best model is: Ridge\n"
     ]
    }
   ],
   "source": [
    "# Calculate the R2 score for each model\n",
    "r2_ridge = r2_score(y_test, y_pred_ridge)\n",
    "r2_ada_boost = r2_score(y_test, y_pred_ada_boost)\n",
    "\n",
    "print(f'R2 score for Ridge regressor: {r2_ridge}')\n",
    "print(f'R2 score for AdaBoost regressor with Ridge: {r2_ada_boost}')\n",
    "\n",
    "# Choose the model with the best R2 score\n",
    "best_model = 'Ridge' if r2_ridge > r2_ada_boost else 'AdaBoost'\n",
    "print(f'The best model is: {best_model}')\n"
   ]
  }
 ],
 "metadata": {
  "kernelspec": {
   "display_name": "Python 3",
   "language": "python",
   "name": "python3"
  },
  "language_info": {
   "codemirror_mode": {
    "name": "ipython",
    "version": 3
   },
   "file_extension": ".py",
   "mimetype": "text/x-python",
   "name": "python",
   "nbconvert_exporter": "python",
   "pygments_lexer": "ipython3",
   "version": "3.11.7"
  }
 },
 "nbformat": 4,
 "nbformat_minor": 2
}
